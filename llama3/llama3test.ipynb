{
 "cells": [
  {
   "cell_type": "code",
   "execution_count": 3,
   "metadata": {},
   "outputs": [
    {
     "name": "stdout",
     "output_type": "stream",
     "text": [
      "Collecting ollama\n",
      "  Downloading ollama-0.3.0-py3-none-any.whl.metadata (3.8 kB)\n",
      "Collecting httpx<0.28.0,>=0.27.0 (from ollama)\n",
      "  Downloading httpx-0.27.0-py3-none-any.whl.metadata (7.2 kB)\n",
      "Requirement already satisfied: anyio in /opt/anaconda3/lib/python3.12/site-packages (from httpx<0.28.0,>=0.27.0->ollama) (4.2.0)\n",
      "Requirement already satisfied: certifi in /opt/anaconda3/lib/python3.12/site-packages (from httpx<0.28.0,>=0.27.0->ollama) (2024.6.2)\n",
      "Collecting httpcore==1.* (from httpx<0.28.0,>=0.27.0->ollama)\n",
      "  Downloading httpcore-1.0.5-py3-none-any.whl.metadata (20 kB)\n",
      "Requirement already satisfied: idna in /opt/anaconda3/lib/python3.12/site-packages (from httpx<0.28.0,>=0.27.0->ollama) (3.7)\n",
      "Requirement already satisfied: sniffio in /opt/anaconda3/lib/python3.12/site-packages (from httpx<0.28.0,>=0.27.0->ollama) (1.3.0)\n",
      "Collecting h11<0.15,>=0.13 (from httpcore==1.*->httpx<0.28.0,>=0.27.0->ollama)\n",
      "  Downloading h11-0.14.0-py3-none-any.whl.metadata (8.2 kB)\n",
      "Downloading ollama-0.3.0-py3-none-any.whl (10 kB)\n",
      "Downloading httpx-0.27.0-py3-none-any.whl (75 kB)\n",
      "\u001b[2K   \u001b[90m━━━━━━━━━━━━━━━━━━━━━━━━━━━━━━━━━━━━━━━━\u001b[0m \u001b[32m75.6/75.6 kB\u001b[0m \u001b[31m2.4 MB/s\u001b[0m eta \u001b[36m0:00:00\u001b[0m\n",
      "\u001b[?25hDownloading httpcore-1.0.5-py3-none-any.whl (77 kB)\n",
      "\u001b[2K   \u001b[90m━━━━━━━━━━━━━━━━━━━━━━━━━━━━━━━━━━━━━━━━\u001b[0m \u001b[32m77.9/77.9 kB\u001b[0m \u001b[31m5.5 MB/s\u001b[0m eta \u001b[36m0:00:00\u001b[0m\n",
      "\u001b[?25hDownloading h11-0.14.0-py3-none-any.whl (58 kB)\n",
      "\u001b[2K   \u001b[90m━━━━━━━━━━━━━━━━━━━━━━━━━━━━━━━━━━━━━━━━\u001b[0m \u001b[32m58.3/58.3 kB\u001b[0m \u001b[31m9.1 MB/s\u001b[0m eta \u001b[36m0:00:00\u001b[0m\n",
      "\u001b[?25hInstalling collected packages: h11, httpcore, httpx, ollama\n",
      "Successfully installed h11-0.14.0 httpcore-1.0.5 httpx-0.27.0 ollama-0.3.0\n"
     ]
    }
   ],
   "source": [
    "#First, install ollama\n",
    "#Second, run this commands: ollama run llama3.1:8b && ollama run llama3.1:8b-instruct-q4_0\n",
    "!pip install ollama"
   ]
  },
  {
   "cell_type": "code",
   "execution_count": 5,
   "metadata": {},
   "outputs": [
    {
     "name": "stdout",
     "output_type": "stream",
     "text": [
      "Collecting torch\n",
      "  Downloading torch-2.4.0-cp312-none-macosx_11_0_arm64.whl.metadata (26 kB)\n",
      "Requirement already satisfied: filelock in /opt/anaconda3/lib/python3.12/site-packages (from torch) (3.13.1)\n",
      "Requirement already satisfied: typing-extensions>=4.8.0 in /opt/anaconda3/lib/python3.12/site-packages (from torch) (4.11.0)\n",
      "Requirement already satisfied: sympy in /opt/anaconda3/lib/python3.12/site-packages (from torch) (1.12)\n",
      "Requirement already satisfied: networkx in /opt/anaconda3/lib/python3.12/site-packages (from torch) (3.2.1)\n",
      "Requirement already satisfied: jinja2 in /opt/anaconda3/lib/python3.12/site-packages (from torch) (3.1.4)\n",
      "Requirement already satisfied: fsspec in /opt/anaconda3/lib/python3.12/site-packages (from torch) (2024.3.1)\n",
      "Requirement already satisfied: setuptools in /opt/anaconda3/lib/python3.12/site-packages (from torch) (69.5.1)\n",
      "Requirement already satisfied: MarkupSafe>=2.0 in /opt/anaconda3/lib/python3.12/site-packages (from jinja2->torch) (2.1.3)\n",
      "Requirement already satisfied: mpmath>=0.19 in /opt/anaconda3/lib/python3.12/site-packages (from sympy->torch) (1.3.0)\n",
      "Downloading torch-2.4.0-cp312-none-macosx_11_0_arm64.whl (62.1 MB)\n",
      "\u001b[2K   \u001b[90m━━━━━━━━━━━━━━━━━━━━━━━━━━━━━━━━━━━━━━━━\u001b[0m \u001b[32m62.1/62.1 MB\u001b[0m \u001b[31m25.9 MB/s\u001b[0m eta \u001b[36m0:00:00\u001b[0m00:01\u001b[0m00:01\u001b[0m\n",
      "\u001b[?25hInstalling collected packages: torch\n",
      "Successfully installed torch-2.4.0\n"
     ]
    }
   ],
   "source": [
    "!pip install torch"
   ]
  },
  {
   "cell_type": "code",
   "execution_count": null,
   "metadata": {},
   "outputs": [],
   "source": [
    "import torch\n",
    "from ollama import OLLAMATokenizer, OLLAMAProcessor, OLLAMATrainer\n",
    "\n",
    "# Assuming you have a JSON file containing the training data with keys \n",
    "'input' and 'label'\n",
    "data_file = 'data.json'\n",
    "\n",
    "# Create an instance of the tokenizer\n",
    "tokenizer = OLLAMATokenizer.from_pretrained('llama3.1')\n",
    "\n",
    "# Create an instance of the processor\n",
    "processor = OLLAMAProcessor(tokenizer=tokenizer)\n",
    "\n",
    "# Load your data from JSON file\n",
    "train_data = processor.load_json(data_file)\n",
    "\n",
    "# Initialize an instance of the trainer\n",
    "trainer = OLLAMATrainer()\n",
    "\n",
    "# Train the model on your custom dataset\n",
    "trainer.train(\n",
    "    train_data=train_data,\n",
    "    num_epochs=10,  # Adjust this according to your needs\n",
    "    batch_size=32,   # Adjust this according to your GPU memory\n",
    "    save_dir='/model',  # Specify a directory to save the trained model\n",
    ")\n",
    "\n",
    "# Save the trained model for future use\n",
    "trainer.save_model('trained_llama_3.1')"
   ]
  },
  {
   "cell_type": "code",
   "execution_count": 4,
   "metadata": {},
   "outputs": [
    {
     "name": "stdout",
     "output_type": "stream",
     "text": [
      "Essa pergunta tem sido discutida e interpretada de maneiras diferentes por filósofos, pensadores e indivíduos ao longo dos séculos. No entanto, uma visão amplamente aceita sugere que a finalidade da vida é encontrar significado através da experiência, relacionamento e contribuição.\n",
      "\n",
      "Para alguns, o significado da vida está associado à realização pessoal, incluindo alcançar objetivos, desfrutar de momentos felizes e desenvolver uma sensação de propósito. Para outros, a vida pode ter um sentido mais transcendente, ligada à espiritualidade ou à conexão com um poder maior.\n",
      "\n",
      "Além disso, muitos veem o significado da vida como estar relacionado aos outros, seja por meio de laços familiares, amizades ou contribuições para a sociedade. Para alguns indivíduos, a busca pelo conhecimento, a criatividade e a inovação também podem ser fontes de significado.\n",
      "\n",
      "A existência de uma resposta única e definitiva à pergunta sobre o significado da vida é improvável, pois ela pode variar significativamente de pessoa para pessoa, dependendo de valores, crenças e experiências individuais.\n"
     ]
    }
   ],
   "source": [
    "import ollama\n",
    "\n",
    "# Inicie um servidor Ollama local\n",
    "# Certifique-se de ter instalado o Ollama e de que o servidor esteja em execução\n",
    "# https://ollama.com/\n",
    "\n",
    "# Defina o modelo LLM a ser utilizado\n",
    "model = \"llama3.1\"\n",
    "\n",
    "# Defina a mensagem do usuário\n",
    "user_message = \"Qual é o significado da vida?\"\n",
    "\n",
    "# Crie uma consulta para a API Ollama\n",
    "response = ollama.chat(\n",
    "    model=model,\n",
    "    messages=[\n",
    "        {\n",
    "            \"role\": \"user\",\n",
    "            \"content\": user_message,\n",
    "        }\n",
    "    ],\n",
    ")\n",
    "\n",
    "# Exiba a resposta do LLM\n",
    "print(response[\"message\"][\"content\"])"
   ]
  },
  {
   "cell_type": "code",
   "execution_count": 4,
   "metadata": {},
   "outputs": [
    {
     "name": "stdout",
     "output_type": "stream",
     "text": [
      "Essa é uma pergunta que pode ter muitas respostas dependendo de quem você perguntar!\n",
      "\n",
      "A busca pelo significado da vida é um tema filosófico, existencial e espiritual que tem sido explorado por séculos. Aqui estão algumas perspectivas:\n",
      "\n",
      "1. **Utilidade e propósito**: Para alguns, o significado da vida está em contribuir para a sociedade de alguma forma, seja através do trabalho, da família ou das atividades comunitárias.\n",
      "2. **Satisfação pessoal**: Outros veem o significado da vida como encontrar a felicidade e a satisfação pessoal, seja por meio de realizações, relacionamentos ou experiências.\n",
      "3. **Desenvolvimento espiritual**: Muitos creem que o significado da vida está em explorar e desenvolver seu lado espiritual, seja através da religião, da meditação ou de práticas espiritualistas.\n",
      "4. **Conhecimento e aprendizado**: Alguns veem o significado da vida como uma jornada contínua de aprendizado e exploração do conhecimento, seja por meio de estudos, experiências ou descobertas.\n",
      "5. **Vivência no presente**: Outros enfatizam a importância de viver plenamente no momento presente, desfrutando das experiências, relacionamentos e momentos da vida.\n",
      "6. **Conexão com o universo**: Muitos creem que o significado da vida está em conectar-se ao mundo natural, à cosmos e às coisas maiores do que nós mesmos.\n",
      "\n",
      "É importante notar que essas perspectivas não são mutuamente exclusivas e podem se sobrepor ou se complementar. Além disso, a busca pelo significado da vida pode ser uma jornada pessoal e única para cada indivíduo.\n",
      "\n",
      "O que você pensa? Qual é o significado da vida para você?\n"
     ]
    }
   ],
   "source": [
    "import ollama\n",
    "instructions = \"Você é especialista no significado da vida.\"\n",
    "user_message = \"Qual é o significado da vida?\"\n",
    "model = \"llama3.1:8b-instruct-q4_0\"\n",
    "\n",
    "response = ollama.chat(\n",
    "    model=model,\n",
    "    messages=[\n",
    "        {\n",
    "            \"role\": \"assistant\",\n",
    "            \"content\": instructions,\n",
    "        },\n",
    "        {\n",
    "            \"role\": \"user\",\n",
    "            \"content\": user_message,\n",
    "        },\n",
    "    ],\n",
    ")\n",
    "print(response[\"message\"][\"content\"])"
   ]
  }
 ],
 "metadata": {
  "kernelspec": {
   "display_name": "base",
   "language": "python",
   "name": "python3"
  },
  "language_info": {
   "codemirror_mode": {
    "name": "ipython",
    "version": 3
   },
   "file_extension": ".py",
   "mimetype": "text/x-python",
   "name": "python",
   "nbconvert_exporter": "python",
   "pygments_lexer": "ipython3",
   "version": "3.12.4"
  }
 },
 "nbformat": 4,
 "nbformat_minor": 2
}
