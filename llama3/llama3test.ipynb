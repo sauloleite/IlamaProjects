{
 "cells": [
  {
   "cell_type": "code",
   "execution_count": 2,
   "metadata": {},
   "outputs": [
    {
     "name": "stdout",
     "output_type": "stream",
     "text": [
      "Requirement already satisfied: ollama in c:\\users\\saulo\\anaconda3\\lib\\site-packages (0.3.0)\n",
      "Requirement already satisfied: httpx<0.28.0,>=0.27.0 in c:\\users\\saulo\\anaconda3\\lib\\site-packages (from ollama) (0.27.0)\n",
      "Requirement already satisfied: anyio in c:\\users\\saulo\\anaconda3\\lib\\site-packages (from httpx<0.28.0,>=0.27.0->ollama) (4.4.0)\n",
      "Requirement already satisfied: certifi in c:\\users\\saulo\\anaconda3\\lib\\site-packages (from httpx<0.28.0,>=0.27.0->ollama) (2024.6.2)\n",
      "Requirement already satisfied: httpcore==1.* in c:\\users\\saulo\\anaconda3\\lib\\site-packages (from httpx<0.28.0,>=0.27.0->ollama) (1.0.5)\n",
      "Requirement already satisfied: idna in c:\\users\\saulo\\anaconda3\\lib\\site-packages (from httpx<0.28.0,>=0.27.0->ollama) (3.7)\n",
      "Requirement already satisfied: sniffio in c:\\users\\saulo\\anaconda3\\lib\\site-packages (from httpx<0.28.0,>=0.27.0->ollama) (1.3.1)\n",
      "Requirement already satisfied: h11<0.15,>=0.13 in c:\\users\\saulo\\anaconda3\\lib\\site-packages (from httpcore==1.*->httpx<0.28.0,>=0.27.0->ollama) (0.14.0)\n",
      "Requirement already satisfied: exceptiongroup>=1.0.2 in c:\\users\\saulo\\anaconda3\\lib\\site-packages (from anyio->httpx<0.28.0,>=0.27.0->ollama) (1.2.0)\n",
      "Requirement already satisfied: typing-extensions>=4.1 in c:\\users\\saulo\\anaconda3\\lib\\site-packages (from anyio->httpx<0.28.0,>=0.27.0->ollama) (4.12.2)\n",
      "Note: you may need to restart the kernel to use updated packages.\n"
     ]
    }
   ],
   "source": [
    "#First, install ollama\n",
    "#Second, run this commands: ollama run llama3.1:8b && ollama run llama3.1:8b-instruct-q4_0\n",
    "pip install ollama"
   ]
  },
  {
   "cell_type": "code",
   "execution_count": 2,
   "metadata": {},
   "outputs": [
    {
     "name": "stdout",
     "output_type": "stream",
     "text": [
      "A busca pelo significado da vida é um dos temas mais antigos e complexos que existem, abordando questões profundas sobre a condição humana e a natureza do universo. Existem diversas perspectivas filosóficas, religiosas, científicas e existencialistas sobre o significado da vida, cada uma oferecendo respostas únicas e inspiradoras.\n",
      "\n",
      "A partir de pontos de vista religiosos, muitas tradições espirituais sustentam que a vida tem um propósito transcendental. Para alguns, esse propósito é alcançar a salvação ou a iluminação espiritual, enquanto outros o veem como servir a uma divindade ou cumprir um destino predeterminado.\n",
      "\n",
      "Perspectivas filosóficas, por outro lado, têm explorado a ideia de significado em termos de experiência humana. Existencialistas, como Jean-Paul Sartre e Martin Heidegger, enfatizam a liberdade individual e a responsabilidade de criar o próprio significado na vida.\n",
      "\n",
      "Desde um ponto de vista científico, os avanços da biologia e da neurociência têm ajudado a entender melhor as complexidades do cérebro humano e como ele processa informações. Isso pode levar à percepção de que o significado da vida é intrinsecamente conectado ao funcionamento do sistema nervoso e às experiências sensoriais.\n",
      "\n",
      "Cada uma dessas perspectivas oferece uma visão única sobre a natureza da existência humana, abordando questões fundamentais como o propósito da vida, a busca pela felicidade e o sentido de significado no mundo. A pergunta \"Qual é o significado da vida?\" permanece um desafio profundo para a humanidade, incentivando contínuas reflexões filosóficas, espirituais e científicas.\n",
      "\n",
      "A respeito do seu contexto específico (e como você gostaria de abordá-lo), há vários aspectos importantes sobre o significado da vida:\n",
      "\n",
      "*   **Busca pela felicidade**: Muitas pessoas veem a busca pela felicidade e pelo prazer como um dos principais propósitos da vida. A percepção de que a vida é boa quando está cheia de experiências positivas e momentos de prazer.\n",
      "*   **Responsabilidade social**: Outros defendem que o significado da vida está na forma como as pessoas contribuem para a sociedade, ajudando os outros e melhorando o mundo em que vivem. Isso pode incluir esforços filantrópicos, profissionais dedicados ou simplesmente ser um bom vizinho.\n",
      "*   **Desenvolvimento pessoal**: Alguns veem o significado da vida como a oportunidade de aprender, crescer e se desenvolver como indivíduo. Isso pode incluir a busca por conhecimento, habilidades ou uma compreensão mais profunda da si mesmo e do mundo.\n",
      "*   **Conexão com algo maior**: Outros buscam um significado mais transcendental, conectando-se a coisas que ultrapassam a experiência humana, como o espírito, a consciência universal ou uma divindade.\n",
      "\n",
      "A resposta à pergunta \"Qual é o significado da vida?\" depende profundamente do contexto cultural, filosófico e pessoal. Embora as perspectivas possam variar amplamente, a busca pelo significado é um processo contínuo que muitas pessoas exploram ao longo de suas vidas.\n"
     ]
    }
   ],
   "source": [
    "import ollama\n",
    "\n",
    "# Inicie um servidor Ollama local\n",
    "# Certifique-se de ter instalado o Ollama e de que o servidor esteja em execução\n",
    "# https://ollama.com/\n",
    "\n",
    "# Defina o modelo LLM a ser utilizado\n",
    "model = \"llama3.1\"\n",
    "\n",
    "# Defina a mensagem do usuário\n",
    "user_message = \"Qual é o significado da vida?\"\n",
    "\n",
    "# Crie uma consulta para a API Ollama\n",
    "response = ollama.chat(\n",
    "    model=model,\n",
    "    messages=[\n",
    "        {\n",
    "            \"role\": \"user\",\n",
    "            \"content\": user_message,\n",
    "        }\n",
    "    ],\n",
    ")\n",
    "\n",
    "# Exiba a resposta do LLM\n",
    "print(response[\"message\"][\"content\"])"
   ]
  },
  {
   "cell_type": "code",
   "execution_count": 4,
   "metadata": {},
   "outputs": [
    {
     "name": "stdout",
     "output_type": "stream",
     "text": [
      "Essa é uma pergunta que pode ter muitas respostas dependendo de quem você perguntar!\n",
      "\n",
      "A busca pelo significado da vida é um tema filosófico, existencial e espiritual que tem sido explorado por séculos. Aqui estão algumas perspectivas:\n",
      "\n",
      "1. **Utilidade e propósito**: Para alguns, o significado da vida está em contribuir para a sociedade de alguma forma, seja através do trabalho, da família ou das atividades comunitárias.\n",
      "2. **Satisfação pessoal**: Outros veem o significado da vida como encontrar a felicidade e a satisfação pessoal, seja por meio de realizações, relacionamentos ou experiências.\n",
      "3. **Desenvolvimento espiritual**: Muitos creem que o significado da vida está em explorar e desenvolver seu lado espiritual, seja através da religião, da meditação ou de práticas espiritualistas.\n",
      "4. **Conhecimento e aprendizado**: Alguns veem o significado da vida como uma jornada contínua de aprendizado e exploração do conhecimento, seja por meio de estudos, experiências ou descobertas.\n",
      "5. **Vivência no presente**: Outros enfatizam a importância de viver plenamente no momento presente, desfrutando das experiências, relacionamentos e momentos da vida.\n",
      "6. **Conexão com o universo**: Muitos creem que o significado da vida está em conectar-se ao mundo natural, à cosmos e às coisas maiores do que nós mesmos.\n",
      "\n",
      "É importante notar que essas perspectivas não são mutuamente exclusivas e podem se sobrepor ou se complementar. Além disso, a busca pelo significado da vida pode ser uma jornada pessoal e única para cada indivíduo.\n",
      "\n",
      "O que você pensa? Qual é o significado da vida para você?\n"
     ]
    }
   ],
   "source": [
    "import ollama\n",
    "instructions = \"Você é especialista no significado da vida.\"\n",
    "user_message = \"Qual é o significado da vida?\"\n",
    "model = \"llama3.1:8b-instruct-q4_0\"\n",
    "\n",
    "response = ollama.chat(\n",
    "    model=model,\n",
    "    messages=[\n",
    "        {\n",
    "            \"role\": \"assistant\",\n",
    "            \"content\": instructions,\n",
    "        },\n",
    "        {\n",
    "            \"role\": \"user\",\n",
    "            \"content\": user_message,\n",
    "        },\n",
    "    ],\n",
    ")\n",
    "print(response[\"message\"][\"content\"])"
   ]
  }
 ],
 "metadata": {
  "kernelspec": {
   "display_name": "base",
   "language": "python",
   "name": "python3"
  },
  "language_info": {
   "codemirror_mode": {
    "name": "ipython",
    "version": 3
   },
   "file_extension": ".py",
   "mimetype": "text/x-python",
   "name": "python",
   "nbconvert_exporter": "python",
   "pygments_lexer": "ipython3",
   "version": "3.10.14"
  }
 },
 "nbformat": 4,
 "nbformat_minor": 2
}
