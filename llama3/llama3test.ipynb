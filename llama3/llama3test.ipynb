{
 "cells": [
  {
   "cell_type": "code",
   "execution_count": 3,
   "metadata": {},
   "outputs": [
    {
     "name": "stdout",
     "output_type": "stream",
     "text": [
      "Collecting ollama\n",
      "  Downloading ollama-0.3.0-py3-none-any.whl.metadata (3.8 kB)\n",
      "Collecting httpx<0.28.0,>=0.27.0 (from ollama)\n",
      "  Downloading httpx-0.27.0-py3-none-any.whl.metadata (7.2 kB)\n",
      "Requirement already satisfied: anyio in /opt/anaconda3/lib/python3.12/site-packages (from httpx<0.28.0,>=0.27.0->ollama) (4.2.0)\n",
      "Requirement already satisfied: certifi in /opt/anaconda3/lib/python3.12/site-packages (from httpx<0.28.0,>=0.27.0->ollama) (2024.6.2)\n",
      "Collecting httpcore==1.* (from httpx<0.28.0,>=0.27.0->ollama)\n",
      "  Downloading httpcore-1.0.5-py3-none-any.whl.metadata (20 kB)\n",
      "Requirement already satisfied: idna in /opt/anaconda3/lib/python3.12/site-packages (from httpx<0.28.0,>=0.27.0->ollama) (3.7)\n",
      "Requirement already satisfied: sniffio in /opt/anaconda3/lib/python3.12/site-packages (from httpx<0.28.0,>=0.27.0->ollama) (1.3.0)\n",
      "Collecting h11<0.15,>=0.13 (from httpcore==1.*->httpx<0.28.0,>=0.27.0->ollama)\n",
      "  Downloading h11-0.14.0-py3-none-any.whl.metadata (8.2 kB)\n",
      "Downloading ollama-0.3.0-py3-none-any.whl (10 kB)\n",
      "Downloading httpx-0.27.0-py3-none-any.whl (75 kB)\n",
      "\u001b[2K   \u001b[90m━━━━━━━━━━━━━━━━━━━━━━━━━━━━━━━━━━━━━━━━\u001b[0m \u001b[32m75.6/75.6 kB\u001b[0m \u001b[31m2.4 MB/s\u001b[0m eta \u001b[36m0:00:00\u001b[0m\n",
      "\u001b[?25hDownloading httpcore-1.0.5-py3-none-any.whl (77 kB)\n",
      "\u001b[2K   \u001b[90m━━━━━━━━━━━━━━━━━━━━━━━━━━━━━━━━━━━━━━━━\u001b[0m \u001b[32m77.9/77.9 kB\u001b[0m \u001b[31m5.5 MB/s\u001b[0m eta \u001b[36m0:00:00\u001b[0m\n",
      "\u001b[?25hDownloading h11-0.14.0-py3-none-any.whl (58 kB)\n",
      "\u001b[2K   \u001b[90m━━━━━━━━━━━━━━━━━━━━━━━━━━━━━━━━━━━━━━━━\u001b[0m \u001b[32m58.3/58.3 kB\u001b[0m \u001b[31m9.1 MB/s\u001b[0m eta \u001b[36m0:00:00\u001b[0m\n",
      "\u001b[?25hInstalling collected packages: h11, httpcore, httpx, ollama\n",
      "Successfully installed h11-0.14.0 httpcore-1.0.5 httpx-0.27.0 ollama-0.3.0\n"
     ]
    }
   ],
   "source": [
    "#First, install ollama\n",
    "#Second, run this commands: ollama run llama3.1:8b && ollama run llama3.1:8b-instruct-q4_0\n",
    "!pip install ollama"
   ]
  },
  {
   "cell_type": "code",
   "execution_count": 8,
   "metadata": {},
   "outputs": [
    {
     "name": "stdout",
     "output_type": "stream",
     "text": [
      "Essa pergunta tem sido discutida e debatida por filósofos, teólogos, cientistas e outros pensadores ao longo dos séculos. Embora não haja uma resposta única e definitiva, existem várias perspectivas que abordam essa questão de maneira significativa.\n",
      "\n",
      "1. **Existencialismo**: A filosofia existencialista, como expressa por Jean-Paul Sartre, sugere que a vida é sem propósito intrinsecamente. Não há um destino pré-determinado ou um propósito universal definido para todos. Em vez disso, as pessoas precisam criar seu próprio significado e propósito à medida que vivem.\n",
      "\n",
      "2. **Humanismo**: O humanismo enfatiza a importância da vida humana em si mesma. Defende a ideia de que o valor reside na experiência individual, no desenvolvimento pessoal e nos relacionamentos com os outros. Aqui, o significado pode ser encontrado na busca do conhecimento, na arte, na ciência, na ética e em melhorar as condições humanas.\n",
      "\n",
      "3. **Religião e Espiritualidade**: Muitas religiões acreditam que há um propósito universal dado por uma divindade ou força superior. Esse propósito pode variar dependendo da crença, mas frequentemente é relacionado à satisfação de um plano divino, ao cumprimento de mandamentos ou a alcançar a salvação espiritual. A espiritualidade também pode enfatizar a conexão com algo transcendental, como um espírito universal ou uma força cósmica.\n",
      "\n",
      "4. **Evolução e Biologia**: Uma perspectiva mais científica sugere que o significado da vida está em sua evolução. A vida emerge de processos químicos na Terra através da seleção natural, levando a formas cada vez mais complexas de vida. Nesse contexto, o significado pode residir no processo de adaptação e sobrevivência para perpetuar as gerações.\n",
      "\n",
      "5. **Perspectivas Pessoais**: Para indivíduos específicos, o significado da vida pode ser encontrado em seus próprios valores, metas, amizades, amor romântico ou profissão. Alguns encontrem significado em ajudar os outros de alguma forma, enquanto outros podem encontrar satisfação no sucesso pessoal ou na conquista de desafios.\n",
      "\n",
      "Em resumo, o significado da vida varia dependendo da perspectiva filosófica, religiosa, científica e pessoal. Embora não haja uma resposta única que seja aplicável a todos, é possível encontrar significado em muitas direções, desde o propósito intrinsecamente criado até o cumprimento de um plano divino ou na busca do conhecimento.\n"
     ]
    }
   ],
   "source": [
    "import ollama\n",
    "\n",
    "# Inicie um servidor Ollama local\n",
    "# Certifique-se de ter instalado o Ollama e de que o servidor esteja em execução\n",
    "# https://ollama.com/\n",
    "\n",
    "# Defina o modelo LLM a ser utilizado\n",
    "model = \"llama3.1\"\n",
    "\n",
    "# Defina a mensagem do usuário\n",
    "user_message = \"Qual é o significado da vida?\"\n",
    "\n",
    "# Crie uma consulta para a API Ollama\n",
    "response = ollama.chat(\n",
    "    model=model,\n",
    "    messages=[\n",
    "        {\n",
    "            \"role\": \"user\",\n",
    "            \"content\": user_message,\n",
    "        }\n",
    "    ],\n",
    ")\n",
    "\n",
    "# Exiba a resposta do LLM\n",
    "print(response[\"message\"][\"content\"])"
   ]
  },
  {
   "cell_type": "code",
   "execution_count": 9,
   "metadata": {},
   "outputs": [
    {
     "name": "stdout",
     "output_type": "stream",
     "text": [
      "def sum_numbers(x,y,z,a):\n",
      "    return x+y+z+a\n",
      "\n",
      "sum_numbers(1,2,3,4)\n"
     ]
    }
   ],
   "source": [
    "import ollama\n",
    "\n",
    "# Inicie um servidor Ollama local\n",
    "# Certifique-se de ter instalado o Ollama e de que o servidor esteja em execução\n",
    "# https://ollama.com/\n",
    "\n",
    "# Defina o modelo LLM a ser utilizado\n",
    "model = \"me/llama3.1-python\"\n",
    "\n",
    "# Defina a mensagem do usuário\n",
    "user_message = \"Create a function to add 1,2,3,4\"\n",
    "\n",
    "# Crie uma consulta para a API Ollama\n",
    "response = ollama.chat(\n",
    "    model=model,\n",
    "    messages=[\n",
    "        {\n",
    "            \"role\": \"user\",\n",
    "            \"content\": user_message,\n",
    "        }\n",
    "    ],\n",
    ")\n",
    "\n",
    "# Exiba a resposta do LLM\n",
    "print(response[\"message\"][\"content\"])"
   ]
  },
  {
   "cell_type": "code",
   "execution_count": 4,
   "metadata": {},
   "outputs": [
    {
     "name": "stdout",
     "output_type": "stream",
     "text": [
      "Essa é uma pergunta que pode ter muitas respostas dependendo de quem você perguntar!\n",
      "\n",
      "A busca pelo significado da vida é um tema filosófico, existencial e espiritual que tem sido explorado por séculos. Aqui estão algumas perspectivas:\n",
      "\n",
      "1. **Utilidade e propósito**: Para alguns, o significado da vida está em contribuir para a sociedade de alguma forma, seja através do trabalho, da família ou das atividades comunitárias.\n",
      "2. **Satisfação pessoal**: Outros veem o significado da vida como encontrar a felicidade e a satisfação pessoal, seja por meio de realizações, relacionamentos ou experiências.\n",
      "3. **Desenvolvimento espiritual**: Muitos creem que o significado da vida está em explorar e desenvolver seu lado espiritual, seja através da religião, da meditação ou de práticas espiritualistas.\n",
      "4. **Conhecimento e aprendizado**: Alguns veem o significado da vida como uma jornada contínua de aprendizado e exploração do conhecimento, seja por meio de estudos, experiências ou descobertas.\n",
      "5. **Vivência no presente**: Outros enfatizam a importância de viver plenamente no momento presente, desfrutando das experiências, relacionamentos e momentos da vida.\n",
      "6. **Conexão com o universo**: Muitos creem que o significado da vida está em conectar-se ao mundo natural, à cosmos e às coisas maiores do que nós mesmos.\n",
      "\n",
      "É importante notar que essas perspectivas não são mutuamente exclusivas e podem se sobrepor ou se complementar. Além disso, a busca pelo significado da vida pode ser uma jornada pessoal e única para cada indivíduo.\n",
      "\n",
      "O que você pensa? Qual é o significado da vida para você?\n"
     ]
    }
   ],
   "source": [
    "import ollama\n",
    "instructions = \"Você é especialista no significado da vida.\"\n",
    "user_message = \"Qual é o significado da vida?\"\n",
    "model = \"llama3.1:8b-instruct-q4_0\"\n",
    "\n",
    "response = ollama.chat(\n",
    "    model=model,\n",
    "    messages=[\n",
    "        {\n",
    "            \"role\": \"assistant\",\n",
    "            \"content\": instructions,\n",
    "        },\n",
    "        {\n",
    "            \"role\": \"user\",\n",
    "            \"content\": user_message,\n",
    "        },\n",
    "    ],\n",
    ")\n",
    "print(response[\"message\"][\"content\"])"
   ]
  },
  {
   "cell_type": "code",
   "execution_count": 10,
   "metadata": {},
   "outputs": [
    {
     "ename": "AttributeError",
     "evalue": "module 'ollama' has no attribute 'upload_data'",
     "output_type": "error",
     "traceback": [
      "\u001b[0;31m---------------------------------------------------------------------------\u001b[0m",
      "\u001b[0;31mAttributeError\u001b[0m                            Traceback (most recent call last)",
      "Cell \u001b[0;32mIn[10], line 4\u001b[0m\n\u001b[1;32m      2\u001b[0m model \u001b[38;5;241m=\u001b[39m \u001b[38;5;124m\"\u001b[39m\u001b[38;5;124mllama3.1\u001b[39m\u001b[38;5;124m\"\u001b[39m\n\u001b[1;32m      3\u001b[0m data \u001b[38;5;241m=\u001b[39m \u001b[38;5;124m\"\u001b[39m\u001b[38;5;124mLingTupi.pdf\u001b[39m\u001b[38;5;124m\"\u001b[39m\n\u001b[0;32m----> 4\u001b[0m ollama\u001b[38;5;241m.\u001b[39mupload_data(data)\n",
      "\u001b[0;31mAttributeError\u001b[0m: module 'ollama' has no attribute 'upload_data'"
     ]
    }
   ],
   "source": [
    "import ollama\n",
    "model = \"llama3.1\"\n",
    "data = \"LingTupi.pdf\"\n",
    "ollama.upload_data(data)"
   ]
  }
 ],
 "metadata": {
  "kernelspec": {
   "display_name": "base",
   "language": "python",
   "name": "python3"
  },
  "language_info": {
   "codemirror_mode": {
    "name": "ipython",
    "version": 3
   },
   "file_extension": ".py",
   "mimetype": "text/x-python",
   "name": "python",
   "nbconvert_exporter": "python",
   "pygments_lexer": "ipython3",
   "version": "3.12.4"
  }
 },
 "nbformat": 4,
 "nbformat_minor": 2
}
