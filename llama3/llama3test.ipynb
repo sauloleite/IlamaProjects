{
 "cells": [
  {
   "cell_type": "code",
   "execution_count": 7,
   "metadata": {},
   "outputs": [
    {
     "name": "stdout",
     "output_type": "stream",
     "text": [
      "Collecting ollamaNote: you may need to restart the kernel to use updated packages.\n",
      "\n",
      "  Downloading ollama-0.2.1-py3-none-any.whl.metadata (4.2 kB)\n",
      "Requirement already satisfied: httpx<0.28.0,>=0.27.0 in c:\\users\\saulo.leite\\appdata\\local\\anaconda3\\lib\\site-packages (from ollama) (0.27.0)\n",
      "Requirement already satisfied: anyio in c:\\users\\saulo.leite\\appdata\\local\\anaconda3\\lib\\site-packages (from httpx<0.28.0,>=0.27.0->ollama) (4.2.0)\n",
      "Requirement already satisfied: certifi in c:\\users\\saulo.leite\\appdata\\local\\anaconda3\\lib\\site-packages (from httpx<0.28.0,>=0.27.0->ollama) (2024.6.2)\n",
      "Requirement already satisfied: httpcore==1.* in c:\\users\\saulo.leite\\appdata\\local\\anaconda3\\lib\\site-packages (from httpx<0.28.0,>=0.27.0->ollama) (1.0.2)\n",
      "Requirement already satisfied: idna in c:\\users\\saulo.leite\\appdata\\local\\anaconda3\\lib\\site-packages (from httpx<0.28.0,>=0.27.0->ollama) (3.7)\n",
      "Requirement already satisfied: sniffio in c:\\users\\saulo.leite\\appdata\\local\\anaconda3\\lib\\site-packages (from httpx<0.28.0,>=0.27.0->ollama) (1.3.0)\n",
      "Requirement already satisfied: h11<0.15,>=0.13 in c:\\users\\saulo.leite\\appdata\\local\\anaconda3\\lib\\site-packages (from httpcore==1.*->httpx<0.28.0,>=0.27.0->ollama) (0.14.0)\n",
      "Downloading ollama-0.2.1-py3-none-any.whl (9.7 kB)\n",
      "Installing collected packages: ollama\n",
      "Successfully installed ollama-0.2.1\n"
     ]
    }
   ],
   "source": [
    "pip install ollama"
   ]
  },
  {
   "cell_type": "code",
   "execution_count": 2,
   "metadata": {},
   "outputs": [
    {
     "name": "stdout",
     "output_type": "stream",
     "text": [
      "Uma das perguntas mais antigas e profundas que um ser humano pode fazer!\n",
      "\n",
      "A resposta à pergunta sobre o significado da vida é subjetiva e pode variar de pessoa para pessoa. No entanto, aqui estão algumas perspectivas que podem ajudar a esclarecer:\n",
      "\n",
      "1. **Existencialismo**: De acordo com essa visão, o homem não tem um propósito predeterminado ou objetivo específico. A vida é como uma tabula rasa, e cada indivíduo tem a responsabilidade de criar seu próprio significado.\n",
      "2. **Utilitarismo**: Segundo este ponto de vista, o significado da vida está relacionado à realização do bem-estar individual e coletivo. A busca por felicidade, justiça e bem-estar é um objetivo fundamental.\n",
      "3. **Religioso**: Para muitas pessoas com crenças religiosas, o significado da vida está ligado a uma força superior ou divina. Eles podem acreditar que o propósito da vida é servir ao Criador, seguir seus ensinamentos ou buscar a salvação.\n",
      "4. **Humanista**: A perspectiva humanista enfatiza a importância de valores como amor, compaixão e respeito à vida. O significado da vida está relacionado à construção de uma sociedade mais justa e equitativa.\n",
      "5. **Filosófico**: A filosofia pode abordar o tema do significado da vida de diferentes maneiras. Alguns filósofos, como Jean-Paul Sartre ou Martin Heidegger, enfatizam a liberdade individual e a responsabilidade de criar seu próprio significado.\n",
      "6. **Eudaimônico**: A teoria de Aristóteles sobre o \"bem-viver\" sugere que o significado da vida está relacionado à realização do potencial humano, tornando-se uma pessoa boa e feliz.\n",
      "\n",
      "Em resumo, o significado da vida pode ser:\n",
      "\n",
      "* Criar seu próprio propósito e sentido\n",
      "* Buscar o bem-estar individual e coletivo\n",
      "* Satisfazer os valores religiosos ou espirituais\n",
      "* Construir uma sociedade mais justa e equitativa\n",
      "* Realizar o potencial humano e tornar-se uma pessoa boa e feliz\n",
      "\n",
      "Lembre-se de que cada pessoa tem sua própria perspectiva e significado para a vida.\n"
     ]
    }
   ],
   "source": [
    "import ollama\n",
    "\n",
    "# Inicie um servidor Ollama local\n",
    "# Certifique-se de ter instalado o Ollama e de que o servidor esteja em execução\n",
    "# https://ollama.com/\n",
    "\n",
    "# Defina o modelo LLM a ser utilizado\n",
    "model = \"llama3\"\n",
    "\n",
    "# Defina a mensagem do usuário\n",
    "user_message = \"Qual é o significado da vida?\"\n",
    "\n",
    "# Crie uma consulta para a API Ollama\n",
    "response = ollama.chat(\n",
    "    model=model,\n",
    "    messages=[\n",
    "        {\n",
    "            \"role\": \"user\",\n",
    "            \"content\": user_message,\n",
    "        }\n",
    "    ],\n",
    ")\n",
    "\n",
    "# Exiba a resposta do LLM\n",
    "print(response[\"message\"][\"content\"])"
   ]
  },
  {
   "cell_type": "code",
   "execution_count": 4,
   "metadata": {},
   "outputs": [],
   "source": [
    "instructions = \"Você é especialista no significado da vida.\"\n",
    "user_message = \"Qual é o significado da vida?\"\n",
    "model = \"llama3:instruct\"\n",
    "\n",
    "response = ollama.chat(\n",
    "    model=model,\n",
    "    messages=[\n",
    "        {\n",
    "            \"role\": \"assistant\",\n",
    "            \"content\": instructions,\n",
    "        },\n",
    "        {\n",
    "            \"role\": \"user\",\n",
    "            \"content\": user_message,\n",
    "        },\n",
    "    ],\n",
    ")\n"
   ]
  },
  {
   "cell_type": "code",
   "execution_count": 5,
   "metadata": {},
   "outputs": [
    {
     "name": "stdout",
     "output_type": "stream",
     "text": [
      "A pergunta mais profunda e complexa que exista!\n",
      "\n",
      "O significado da vida é um tema que tem sido debatido por filósofos, religiosos, cientistas e pensadores de todas as épocas. Não há uma resposta única e objetiva para essa questão, pois o significado da vida pode variar de pessoa para pessoa e cultura para cultura.\n",
      "\n",
      "Aqui estão algumas possíveis respostas:\n",
      "\n",
      "1. **Pleasure and happiness**: Viver para sentir prazer e felicidade em todas as coisas que fazemos.\n",
      "2. **Self-actualization**: Acreditar que o significado da vida está em alcançar seu potencial, desenvolver suas habilidades e se tornar a melhor versão de si mesmo.\n",
      "3. **Relationships and love**: Creio que o significado da vida está em relacionamentos saudáveis e amorosas com outros seres humanos, familiares, amigos e comunidade.\n",
      "4. **Purpose and meaning**: Acreditar que o significado da vida é encontrar seu propósito e sentido na vida, seja isso por meio de uma carreira, uma causa ou uma missão pessoal.\n",
      "5. **Spiritual growth**: Creio que o significado da vida está em crescer espiritualmente, conectar-se com algo maior do que si mesmo, encontrar paz interior e harmonia.\n",
      "6. **Learning and self-improvement**: Acreditar que o significado da vida é aprender e melhorar constantemente, seja isso por meio de estudos, experiências ou reflexão.\n",
      "7. **Contributing to the greater good**: Creio que o significado da vida está em contribuir para o bem-estar do mundo, seja isso por meio de trabalho, filantropia ou serviço.\n",
      "\n",
      "Essas são apenas algumas possibilidades, e cada pessoa pode ter sua própria resposta ao que é o significado da vida.\n"
     ]
    }
   ],
   "source": [
    "print(response[\"message\"][\"content\"])"
   ]
  }
 ],
 "metadata": {
  "kernelspec": {
   "display_name": "base",
   "language": "python",
   "name": "python3"
  },
  "language_info": {
   "codemirror_mode": {
    "name": "ipython",
    "version": 3
   },
   "file_extension": ".py",
   "mimetype": "text/x-python",
   "name": "python",
   "nbconvert_exporter": "python",
   "pygments_lexer": "ipython3",
   "version": "3.11.7"
  }
 },
 "nbformat": 4,
 "nbformat_minor": 2
}
